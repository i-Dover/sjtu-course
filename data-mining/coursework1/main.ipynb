{
 "cells": [
  {
   "cell_type": "code",
   "execution_count": 1,
   "metadata": {},
   "outputs": [],
   "source": [
    "import numpy as np\n",
    "import os\n",
    "import pandas as pd\n",
    "from k_means import get_score\n",
    "from sklearn.decomposition import PCA\n",
    "import matplotlib.pyplot as plt\n",
    "import random\n",
    "from utils import euclidean_distance"
   ]
  },
  {
   "cell_type": "code",
   "execution_count": 2,
   "metadata": {},
   "outputs": [],
   "source": [
    "data_path = 'datamining-2020/course1.csv'\n",
    "submission_path = 'datamining-2020/SubmissionSample.csv'\n",
    "result_path = 'datamining-2020/submission.csv'"
   ]
  },
  {
   "cell_type": "code",
   "execution_count": 3,
   "metadata": {},
   "outputs": [
    {
     "name": "stdout",
     "output_type": "stream",
     "text": [
      "data shape: (50000, 100)\n"
     ]
    }
   ],
   "source": [
    "data = pd.read_csv(data_path)\n",
    "data = data.values\n",
    "data = data[:, 1:]\n",
    "print('data shape: ({}, {})'.format(data.shape[0], data.shape[1]))\n",
    "pca = PCA(n_components=2).fit(data)\n",
    "data_pca = pca.transform(data)  # use PCA to transform the data to 2-dimension just for visualization"
   ]
  },
  {
   "cell_type": "code",
   "execution_count": 4,
   "metadata": {},
   "outputs": [
    {
     "data": {
      "image/png": "[encoded data removed]",
      "text/plain": [
       "<Figure size 432x288 with 1 Axes>"
      ]
     },
     "metadata": {
      "needs_background": "light"
     },
     "output_type": "display_data"
    }
   ],
   "source": [
    "plt.scatter(data_pca[:,0],data_pca[:,1])\n",
    "plt.show()"
   ]
  },
  {
   "cell_type": "markdown",
   "metadata": {},
   "source": [
    "#### From the above scatter plot, we can know that the data should be easy to cluster"
   ]
  },
  {
   "cell_type": "code",
   "execution_count": 5,
   "metadata": {},
   "outputs": [],
   "source": [
    "# define a func to get the radius of each cluster\n",
    "def get_cluster_radius(centers, X, labels):\n",
    "    n_samples, _ = X.shape\n",
    "    n_clusters = centers.shape[0]\n",
    "    distances_in_clusters = [[] for _ in range(n_clusters)]  # to record all distances in each cluster\n",
    "    for i in range(n_samples):\n",
    "        label = labels[i]\n",
    "        eu_distance = euclidean_distance(X[i], centers[label])\n",
    "        distances_in_clusters[label].append(eu_distance)\n",
    "    radiuses = []\n",
    "    for item in distances_in_clusters:\n",
    "        radiuses.append(max(item))  # max distance to the center is the radius\n",
    "    return radiuses"
   ]
  },
  {
   "cell_type": "code",
   "execution_count": 6,
   "metadata": {},
   "outputs": [
    {
     "name": "stdout",
     "output_type": "stream",
     "text": [
      "Converged at iteration 1: center shift 0.0 lower than tolerance 0.0001\n",
      "Converged at iteration 1: center shift 0.0 lower than tolerance 0.0001\n",
      "Converged at iteration 1: center shift 0.0 lower than tolerance 0.0001\n",
      "Converged at iteration 1: center shift 0.0 lower than tolerance 0.0001\n",
      "Converged at iteration 1: center shift 0.0 lower than tolerance 0.0001\n",
      "radiues: [2.2222046585771755, 2.15798310221043, 2.3568385310384676, 2.3561477196830936, 2.0422765625896857]\n",
      "Sorated radiuses: [2.04227656 2.1579831  2.22220466 2.35614772 2.35683853]\n",
      "The top 10 labels: [0 4 4 1 4 0 2 1 3 0]\n"
     ]
    }
   ],
   "source": [
    "from k_means import KMeans\n",
    "kmeans = KMeans(n_clusters=5, init='auto', n_init=5)  # this will run 5 times and get the best one\n",
    "kmeans.fit(data)\n",
    "radiuses = get_cluster_radius(kmeans.centers_, data, kmeans.labels_)\n",
    "print('radiues: {}'.format(radiuses))\n",
    "radiuses_sort = np.argsort(radiuses)  # ascending order\n",
    "kmeans.centers_ = kmeans.centers_[radiuses_sort]\n",
    "print('Sorated radiuses: {}'.format(np.array(radiuses)[radiuses_sort]))\n",
    "labels = kmeans.predict(data)\n",
    "print('The top 10 labels: {}'.format(labels[:10]))"
   ]
  },
  {
   "cell_type": "markdown",
   "metadata": {},
   "source": [
    "### Because the initial cluster centers are selected well, the k-means coverges really fast. After ieration 1, it converged."
   ]
  },
  {
   "cell_type": "code",
   "execution_count": 7,
   "metadata": {},
   "outputs": [
    {
     "name": "stdout",
     "output_type": "stream",
     "text": [
      "86836.4647720182\n"
     ]
    }
   ],
   "source": [
    "print(get_score(data, kmeans.centers_, labels))"
   ]
  },
  {
   "cell_type": "code",
   "execution_count": 8,
   "metadata": {},
   "outputs": [
    {
     "data": {
      "image/png": "[encoded data removed]",
      "text/plain": [
       "<Figure size 432x288 with 1 Axes>"
      ]
     },
     "metadata": {
      "needs_background": "light"
     },
     "output_type": "display_data"
    }
   ],
   "source": [
    "plt.scatter(data_pca[:,0],data_pca[:,1], c=labels)\n",
    "plt.show()"
   ]
  },
  {
   "cell_type": "code",
   "execution_count": 9,
   "metadata": {},
   "outputs": [
    {
     "name": "stdout",
     "output_type": "stream",
     "text": [
      "radiues: [2.0422765625896857, 2.15798310221043, 2.356838531038468, 2.2222046585771755, 2.356147719683093]\n",
      "Sorated radiuses: [2.04227656 2.1579831  2.22220466 2.35614772 2.35683853]\n",
      "The top 10 labels: [0 4 4 1 4 0 2 1 3 0]\n",
      "86836.46477201821\n",
      "50000\n"
     ]
    }
   ],
   "source": [
    "# we use the sklearn.KMeans for comparing\n",
    "from sklearn.cluster import KMeans\n",
    "kmeans = KMeans(n_clusters=5)\n",
    "kmeans.fit(data)\n",
    "centers_ = kmeans.cluster_centers_\n",
    "labels_ = kmeans.labels_\n",
    "radiuses = get_cluster_radius(centers_, data, labels_)\n",
    "print('radiues: {}'.format(radiuses))\n",
    "radiuses_sort = np.argsort(radiuses)  # ascending order\n",
    "kmeans.cluster_centers_ = kmeans.cluster_centers_[radiuses_sort]\n",
    "print('Sorated radiuses: {}'.format(np.array(radiuses)[radiuses_sort]))\n",
    "labels_ = kmeans.predict(data)\n",
    "print('The top 10 labels: {}'.format(labels_[:10]))\n",
    "print(get_score(data, kmeans.cluster_centers_, labels_))\n",
    "print(np.sum(labels == labels_))  "
   ]
  },
  {
   "cell_type": "code",
   "execution_count": 10,
   "metadata": {},
   "outputs": [],
   "source": [
    "submission_csv = pd.read_csv(submission_path)\n",
    "submission_csv['category'] = labels  # save the labels \n",
    "submission_csv.to_csv(result_path, index=None)"
   ]
  },
  {
   "cell_type": "code",
   "execution_count": 11,
   "metadata": {},
   "outputs": [
    {
     "name": "stdout",
     "output_type": "stream",
     "text": [
      "Converged at iteration 1: center shift 0.0 lower than tolerance 0.0001\n",
      "radiues: [2.2222046585771777, 2.3568385310384707, 2.1579831022104243, 2.3561477196830984, 2.0422765625896866]\n",
      "Sorated radiuses: [2.04227656 2.1579831  2.22220466 2.35614772 2.35683853]\n",
      "The top 10 labels: [0 4 4 1 4 0 2 1 3 0]\n",
      "86836.46477201827\n",
      "50000\n"
     ]
    }
   ],
   "source": [
    "# use the gmm, in this dataset, it gets the same result with k-means\n",
    "from gmm import GMM\n",
    "gmm = GMM(n_components=5)\n",
    "gmm.fit(data)\n",
    "means_ = gmm.means_\n",
    "labels_ = gmm.predict(data)\n",
    "radiuses = get_cluster_radius(means_, data, labels_)\n",
    "print('radiues: {}'.format(radiuses))\n",
    "radiuses_sort = np.argsort(radiuses)  # ascending order\n",
    "gmm.means_ = gmm.means_[radiuses_sort]\n",
    "gmm.covariances_ = gmm.covariances_[radiuses_sort]\n",
    "gmm.weights_ = gmm.weights_[radiuses_sort]\n",
    "print('Sorated radiuses: {}'.format(np.array(radiuses)[radiuses_sort]))\n",
    "labels_ = gmm.predict(data)\n",
    "print('The top 10 labels: {}'.format(labels_[:10]))\n",
    "print(get_score(data, gmm.means_, labels_)) \n",
    "print(sum(labels == labels_))"
   ]
  }
 ],
 "metadata": {
  "kernelspec": {
   "display_name": "Python 3",
   "language": "python",
   "name": "python3"
  },
  "language_info": {
   "codemirror_mode": {
    "name": "ipython",
    "version": 3
   },
   "file_extension": ".py",
   "mimetype": "text/x-python",
   "name": "python",
   "nbconvert_exporter": "python",
   "pygments_lexer": "ipython3",
   "version": "3.7.1"
  }
 },
 "nbformat": 4,
 "nbformat_minor": 2
}
