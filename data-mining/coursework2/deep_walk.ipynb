{
 "cells": [
  {
   "cell_type": "code",
   "execution_count": 1,
   "metadata": {},
   "outputs": [],
   "source": [
    "edges_path = 'data/edges.csv'\n",
    "ground_truth_path = 'data/ground_truth.csv'\n",
    "submission_path = 'data/SubmissionSample.csv'"
   ]
  },
  {
   "cell_type": "code",
   "execution_count": 2,
   "metadata": {},
   "outputs": [],
   "source": [
    "from deepwalk import DeepWalk\n",
    "import pandas as pd\n",
    "import numpy as np"
   ]
  },
  {
   "cell_type": "code",
   "execution_count": 5,
   "metadata": {},
   "outputs": [],
   "source": [
    "# get edges and nodes\n",
    "edges = pd.read_csv(edges_path)\n",
    "edges = edges.values\n",
    "nodes = np.unique(edges)"
   ]
  },
  {
   "cell_type": "code",
   "execution_count": 3,
   "metadata": {},
   "outputs": [
    {
     "name": "stdout",
     "output_type": "stream",
     "text": [
      "Creating the graph has finished...\n"
     ]
    },
    {
     "name": "stderr",
     "output_type": "stream",
     "text": [
      "Computing transition probabilities: 100%|███████████████████████████████████████| 31136/31136 [00:58<00:00, 532.01it/s]\n"
     ]
    },
    {
     "name": "stdout",
     "output_type": "stream",
     "text": [
      "Begin to generate random walks...\n",
      "Already get all random walks, Number of random walks: 311360\n",
      "Begin to train the model...\n",
      "Model training has finished...\n"
     ]
    },
    {
     "data": {
      "text/plain": [
       "<deepwalk.DeepWalk at 0x2ba86152550>"
      ]
     },
     "execution_count": 3,
     "metadata": {},
     "output_type": "execute_result"
    }
   ],
   "source": [
    "# This model will generate result close to the best result in the LeaderBoard\n",
    "dw = DeepWalk(random_policy='bias_random', dimensions=64, path_length=20, num_random=10, workers=4)\n",
    "dw.fit(edges_path)"
   ]
  },
  {
   "cell_type": "code",
   "execution_count": 18,
   "metadata": {},
   "outputs": [
    {
     "name": "stdout",
     "output_type": "stream",
     "text": [
      "Creating the graph has finished...\n"
     ]
    },
    {
     "name": "stderr",
     "output_type": "stream",
     "text": [
      "100%|██████████████████████████████████████████████████████████████████████████| 31136/31136 [00:10<00:00, 3028.94it/s]\n"
     ]
    },
    {
     "name": "stdout",
     "output_type": "stream",
     "text": [
      "Already get all random walks, Number of random walks: 155680\n",
      "Begin to train the model...\n",
      "Model training has finished...\n"
     ]
    },
    {
     "data": {
      "text/plain": [
       "<deepwalk.DeepWalk at 0x1e61b9947b8>"
      ]
     },
     "execution_count": 18,
     "metadata": {},
     "output_type": "execute_result"
    }
   ],
   "source": [
    "# This model can run faster, but accuracy may be lower\n",
    "# increase num_random or path_length will get better result\n",
    "# dw = DeepWalk(num_random=5, random_policy='random', epochs=20, path_length=10, workers=4)\n",
    "# dw.fit(edges_path)"
   ]
  },
  {
   "cell_type": "code",
   "execution_count": 6,
   "metadata": {},
   "outputs": [],
   "source": [
    "communities = dw.predict(nodes)"
   ]
  },
  {
   "cell_type": "code",
   "execution_count": 7,
   "metadata": {},
   "outputs": [
    {
     "name": "stdout",
     "output_type": "stream",
     "text": [
      "[0 0 3 ... 1 1 1]\n"
     ]
    }
   ],
   "source": [
    "print(communities)"
   ]
  },
  {
   "cell_type": "code",
   "execution_count": 8,
   "metadata": {},
   "outputs": [],
   "source": [
    "from collections import Counter\n",
    "def convert_with_gt(communities, ground_truth):\n",
    "    gt_col1 = ground_truth[:, 0].tolist()\n",
    "    n_communities = np.unique(communities)\n",
    "    communities_dict = dict([])\n",
    "    for i in range(len(n_communities)):\n",
    "        community = n_communities[i]\n",
    "        nodes = np.where(communities==community)[0].tolist()\n",
    "        communities_dict[community] = nodes\n",
    "    res = {0: [], 1: [], 2: [], 3: [], 4: []}\n",
    "    print(communities_dict.keys())\n",
    "    for c in communities_dict.keys():\n",
    "        nodes = communities_dict[c]\n",
    "        gt = []\n",
    "        for i in range(len(nodes)):\n",
    "            node = nodes[i]\n",
    "            if node in gt_col1:\n",
    "                idx = np.where(node == ground_truth[:, 0])\n",
    "                category = ground_truth[idx, 1][0][0]\n",
    "                gt.append(category)\n",
    "        gt = np.array(gt, dtype=np.int64)\n",
    "        print(gt)\n",
    "        if len(gt) == 0:\n",
    "            category = 2\n",
    "        else:\n",
    "            category = Counter(gt).most_common()[0][0]\n",
    "        print(category)\n",
    "        res[category] = res[category] + nodes\n",
    "    communities_gt = np.zeros((len(communities), ), dtype=communities.dtype)\n",
    "    for c in res.keys():\n",
    "        nodes = res[c]\n",
    "        for node in nodes:\n",
    "            communities_gt[node] = c  # get community\n",
    "    return communities_gt"
   ]
  },
  {
   "cell_type": "code",
   "execution_count": 9,
   "metadata": {},
   "outputs": [
    {
     "name": "stdout",
     "output_type": "stream",
     "text": [
      "dict_keys([0, 1, 2, 3, 4])\n",
      "[4 4 4 4 4 4 4 4 4 4]\n",
      "4\n",
      "[3 3 3 3 3 3 3 3 3 3]\n",
      "3\n",
      "[2 2 2 2 2 2 2 2 2 2]\n",
      "2\n",
      "[1 1 1 1 1 1 1 1 1 1]\n",
      "1\n",
      "[0 0 0 0 0 0 0 0 0 0]\n",
      "0\n"
     ]
    }
   ],
   "source": [
    "ground_truth = pd.read_csv(ground_truth_path)\n",
    "ground_truth = ground_truth.values\n",
    "communities_gt = convert_with_gt(communities, ground_truth)"
   ]
  },
  {
   "cell_type": "code",
   "execution_count": 10,
   "metadata": {},
   "outputs": [],
   "source": [
    "df = pd.DataFrame(columns=['id', 'category'])\n",
    "nodes = np.array(list(range(len(nodes))))\n",
    "df['id'] = np.sort(nodes)\n",
    "df['category'] = communities_gt\n",
    "df.to_csv('data/submission_new.csv', index=None)"
   ]
  },
  {
   "cell_type": "code",
   "execution_count": 11,
   "metadata": {},
   "outputs": [
    {
     "name": "stdout",
     "output_type": "stream",
     "text": [
      "0.9991649537512847\n"
     ]
    }
   ],
   "source": [
    "# Compare to my best result\n",
    "com2 = pd.read_csv('data/submission_final.csv')\n",
    "com3 = pd.read_csv('data/submission_new.csv')\n",
    "com2 = com2.values[:, 1]\n",
    "com3 = com3.values[:, 1]\n",
    "print(np.sum(com2 == com3) / len(com2))"
   ]
  },
  {
   "cell_type": "code",
   "execution_count": 12,
   "metadata": {},
   "outputs": [
    {
     "name": "stdout",
     "output_type": "stream",
     "text": [
      "10858\n",
      "5285\n",
      "7129\n",
      "3927\n",
      "3937\n"
     ]
    }
   ],
   "source": [
    "com = communities_gt.tolist()\n",
    "com_dict = {0: [], 1:[], 2:[], 3:[], 4:[]}\n",
    "for i, c in enumerate(com):\n",
    "    com_dict[c].append(i)\n",
    "for c in com_dict.keys():\n",
    "    print(len(com_dict[c]))"
   ]
  },
  {
   "cell_type": "code",
   "execution_count": null,
   "metadata": {},
   "outputs": [],
   "source": []
  }
 ],
 "metadata": {
  "kernelspec": {
   "display_name": "Python 3",
   "language": "python",
   "name": "python3"
  },
  "language_info": {
   "codemirror_mode": {
    "name": "ipython",
    "version": 3
   },
   "file_extension": ".py",
   "mimetype": "text/x-python",
   "name": "python",
   "nbconvert_exporter": "python",
   "pygments_lexer": "ipython3",
   "version": "3.7.1"
  }
 },
 "nbformat": 4,
 "nbformat_minor": 2
}
