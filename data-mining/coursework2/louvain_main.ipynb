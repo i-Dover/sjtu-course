{
 "cells": [
  {
   "cell_type": "code",
   "execution_count": 1,
   "metadata": {},
   "outputs": [],
   "source": [
    "import pandas as pd\n",
    "import numpy as np\n",
    "from louvain import Louvain"
   ]
  },
  {
   "cell_type": "code",
   "execution_count": 2,
   "metadata": {},
   "outputs": [],
   "source": [
    "edges_path = 'data/edges.csv'\n",
    "ground_truth_path = 'data/ground_truth.csv'\n",
    "submission_path = 'data/SubmissionSample.csv'"
   ]
  },
  {
   "cell_type": "code",
   "execution_count": 3,
   "metadata": {},
   "outputs": [
    {
     "name": "stdout",
     "output_type": "stream",
     "text": [
      "The total edges: 256426\n",
      "The number of sourse nodes: 31092\n",
      "The number of target nodes: 30949\n",
      "The number of total nodes: 31136\n"
     ]
    }
   ],
   "source": [
    "# get edges and nodes\n",
    "edges = pd.read_csv(edges_path)\n",
    "edges = edges.values\n",
    "print('The total edges: {}'.format(edges.shape[0]))\n",
    "print('The number of sourse nodes: {}'.format(len(np.unique(edges[:, 0]))))\n",
    "print('The number of target nodes: {}'.format(len(np.unique(edges[:, 1]))))\n",
    "print('The number of total nodes: {}'.format(len(np.unique(edges))))\n",
    "nodes = np.unique(edges)"
   ]
  },
  {
   "cell_type": "code",
   "execution_count": 4,
   "metadata": {},
   "outputs": [
    {
     "data": {
      "text/plain": [
       "<louvain.Louvain at 0x17961b06240>"
      ]
     },
     "execution_count": 4,
     "metadata": {},
     "output_type": "execute_result"
    }
   ],
   "source": [
    "# run the louvain algorithm\n",
    "lv = Louvain()\n",
    "lv.fit(edges, nodes)"
   ]
  },
  {
   "cell_type": "code",
   "execution_count": 5,
   "metadata": {},
   "outputs": [],
   "source": [
    "communities = lv.predict(nodes)\n",
    "# Note: By louvain algorithm, the final cluster may be not 5. \n",
    "# The final results may fluctuate a little. So the result may be not the same as submission in the Leaderboard."
   ]
  },
  {
   "cell_type": "code",
   "execution_count": 6,
   "metadata": {},
   "outputs": [
    {
     "name": "stdout",
     "output_type": "stream",
     "text": [
      "6\n"
     ]
    }
   ],
   "source": [
    "print(len(np.unique(communities)))"
   ]
  },
  {
   "cell_type": "code",
   "execution_count": 7,
   "metadata": {},
   "outputs": [
    {
     "name": "stdout",
     "output_type": "stream",
     "text": [
      "3927\n",
      "5286\n",
      "10779\n",
      "3927\n",
      "7123\n",
      "94\n"
     ]
    }
   ],
   "source": [
    "for i in range(len(np.unique(communities))):\n",
    "    com0 = np.where(communities==i)[0]\n",
    "    print(len(com0))"
   ]
  },
  {
   "cell_type": "code",
   "execution_count": 8,
   "metadata": {},
   "outputs": [],
   "source": [
    "from collections import Counter\n",
    "def convert_with_gt(communities, ground_truth):\n",
    "    gt_col1 = ground_truth[:, 0].tolist()\n",
    "    n_communities = np.unique(communities)\n",
    "    communities_dict = dict([])\n",
    "    for i in range(len(n_communities)):\n",
    "        community = n_communities[i]\n",
    "        nodes = np.where(communities==community)[0].tolist()\n",
    "        communities_dict[community] = nodes\n",
    "    res = {0: [], 1: [], 2: [], 3: [], 4: []}\n",
    "    print(communities_dict.keys())\n",
    "    for c in communities_dict.keys():\n",
    "        nodes = communities_dict[c]\n",
    "        gt = []\n",
    "        for i in range(len(nodes)):\n",
    "            node = nodes[i]\n",
    "            if node in gt_col1:\n",
    "                idx = np.where(node == ground_truth[:, 0])\n",
    "                category = ground_truth[idx, 1][0][0]\n",
    "                gt.append(category)\n",
    "        gt = np.array(gt, dtype=np.int64)\n",
    "        print(gt)\n",
    "        if len(gt) == 0:\n",
    "            category = 0\n",
    "        else:\n",
    "            category = Counter(gt).most_common()[0][0]\n",
    "        print(category)\n",
    "        res[category] = res[category] + nodes\n",
    "    communities_gt = np.zeros((len(communities), ), dtype=communities.dtype)\n",
    "    for c in res.keys():\n",
    "        nodes = res[c]\n",
    "        for node in nodes:\n",
    "            communities_gt[node] = c  # get community\n",
    "    return communities_gt"
   ]
  },
  {
   "cell_type": "code",
   "execution_count": 9,
   "metadata": {},
   "outputs": [
    {
     "name": "stdout",
     "output_type": "stream",
     "text": [
      "dict_keys([0, 1, 2, 3, 4, 5])\n",
      "[4 4 4 4 4 4 4 4 4 4]\n",
      "4\n",
      "[1 1 1 1 1 1 1 1 1 1]\n",
      "1\n",
      "[0 0 0 0 0 0 0 0 0 0]\n",
      "0\n",
      "[3 3 3 3 3 3 3 3 3 3]\n",
      "3\n",
      "[2 2 2 2 2 2 2 2 2 2]\n",
      "2\n",
      "[]\n",
      "0\n"
     ]
    }
   ],
   "source": [
    "ground_truth = pd.read_csv(ground_truth_path)\n",
    "ground_truth = ground_truth.values\n",
    "communities_gt = convert_with_gt(communities, ground_truth)"
   ]
  },
  {
   "cell_type": "code",
   "execution_count": 10,
   "metadata": {},
   "outputs": [
    {
     "name": "stdout",
     "output_type": "stream",
     "text": [
      "10873\n",
      "5286\n",
      "7123\n",
      "3927\n",
      "3927\n"
     ]
    }
   ],
   "source": [
    "for i in [0, 1, 2, 3, 4]:\n",
    "    com0 = np.where(communities_gt==i)[0]\n",
    "    print(len(com0))"
   ]
  },
  {
   "cell_type": "code",
   "execution_count": 11,
   "metadata": {},
   "outputs": [],
   "source": [
    "df = pd.DataFrame(columns=['id', 'category'])\n",
    "df['id'] = np.sort(nodes)\n",
    "df['category'] = communities_gt\n",
    "df.to_csv('data/submission_new.csv', index=None)"
   ]
  },
  {
   "cell_type": "code",
   "execution_count": 12,
   "metadata": {},
   "outputs": [
    {
     "name": "stdout",
     "output_type": "stream",
     "text": [
      "0.9981372045220966\n"
     ]
    }
   ],
   "source": [
    "# compare to my best result, if the result differs a lot, rerun the louvain algorithm\n",
    "com1 = pd.read_csv('data/submission_final.csv')\n",
    "com2 = pd.read_csv('data/submission_new.csv')\n",
    "com1 = com1.values[:, 1]\n",
    "com2 = com2.values[:, 1]\n",
    "print(np.sum(com1 == com2) / len(com2))"
   ]
  },
  {
   "cell_type": "code",
   "execution_count": null,
   "metadata": {},
   "outputs": [],
   "source": []
  }
 ],
 "metadata": {
  "kernelspec": {
   "display_name": "Python 3",
   "language": "python",
   "name": "python3"
  },
  "language_info": {
   "codemirror_mode": {
    "name": "ipython",
    "version": 3
   },
   "file_extension": ".py",
   "mimetype": "text/x-python",
   "name": "python",
   "nbconvert_exporter": "python",
   "pygments_lexer": "ipython3",
   "version": "3.7.1"
  }
 },
 "nbformat": 4,
 "nbformat_minor": 2
}
