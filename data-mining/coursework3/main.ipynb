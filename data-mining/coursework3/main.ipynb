{
 "cells": [
  {
   "cell_type": "code",
   "execution_count": 1,
   "metadata": {},
   "outputs": [],
   "source": [
    "edges_path = 'data/course3_edge.csv'\n",
    "test_path = 'data/course3_test.csv'\n",
    "submission_path = 'data/course3_submissionsample.csv'"
   ]
  },
  {
   "cell_type": "code",
   "execution_count": 2,
   "metadata": {},
   "outputs": [],
   "source": [
    "from node2embedding import NodeEmbedding\n",
    "import pandas as pd\n",
    "import numpy as np\n",
    "import networkx as nx"
   ]
  },
  {
   "cell_type": "code",
   "execution_count": 3,
   "metadata": {},
   "outputs": [
    {
     "name": "stdout",
     "output_type": "stream",
     "text": [
      "16863\n"
     ]
    }
   ],
   "source": [
    "# get edges and nodes\n",
    "edges = pd.read_csv(edges_path)\n",
    "edges = edges.values\n",
    "nodes = np.unique(edges)\n",
    "test_edges = pd.read_csv(test_path).values[:, 1:]\n",
    "test_nodes = np.unique(test_edges)\n",
    "nodes_all = np.unique(np.hstack([nodes, test_nodes]))  # get all nodes\n",
    "print(len(nodes_all))"
   ]
  },
  {
   "cell_type": "code",
   "execution_count": 4,
   "metadata": {},
   "outputs": [
    {
     "name": "stdout",
     "output_type": "stream",
     "text": [
      "The total edges: 46116\n",
      "The number of sourse nodes: 12061\n",
      "The number of target nodes: 13832\n",
      "The number of total nodes: 16735\n",
      "The max node index: 16862\n"
     ]
    }
   ],
   "source": [
    "# get the edges and nodes info\n",
    "print('The total edges: {}'.format(edges.shape[0]))\n",
    "print('The number of sourse nodes: {}'.format(len(np.unique(edges[:, 0]))))\n",
    "print('The number of target nodes: {}'.format(len(np.unique(edges[:, 1]))))\n",
    "print('The number of total nodes: {}'.format(len(np.unique(edges))))\n",
    "print('The max node index: {}'.format(np.max(edges)))"
   ]
  },
  {
   "cell_type": "code",
   "execution_count": 5,
   "metadata": {},
   "outputs": [
    {
     "name": "stdout",
     "output_type": "stream",
     "text": [
      "Creating the graph has finished...\n",
      "Load the pre-trained model...\n"
     ]
    }
   ],
   "source": [
    "# get all ranom walks and train the Word2Vec model\n",
    "train = False\n",
    "if train:\n",
    "    node2vec = NodeEmbedding(random_policy='node2vec', epochs=20, path_length=80, num_random=10, workers=4, \n",
    "                             dimensions=128, p=1, q=1, window_size=10)\n",
    "    node2vec.fit(edges, nodes_all)\n",
    "else:  # use the already trained model\n",
    "    node2vec = NodeEmbedding(random_policy='node2vec', epochs=20, path_length=80, num_random=10, workers=4, \n",
    "                             dimensions=128, p=1, q=1, window_size=10)\n",
    "    node2vec.fit(edges, nodes_all, model_path='word2vec.model')"
   ]
  },
  {
   "cell_type": "code",
   "execution_count": 6,
   "metadata": {},
   "outputs": [
    {
     "name": "stdout",
     "output_type": "stream",
     "text": [
      "Begin to train the classifier...\n"
     ]
    },
    {
     "name": "stderr",
     "output_type": "stream",
     "text": [
      "C:\\Users\\hppc\\Anaconda3\\lib\\site-packages\\sklearn\\neural_network\\_multilayer_perceptron.py:571: ConvergenceWarning: Stochastic Optimizer: Maximum iterations (20) reached and the optimization hasn't converged yet.\n",
      "  % self.max_iter, ConvergenceWarning)\n"
     ]
    },
    {
     "name": "stdout",
     "output_type": "stream",
     "text": [
      "Have done classifier training process, the train auc score: 0.9952876689161241\n"
     ]
    }
   ],
   "source": [
    "test_labels, test_probs = node2vec.predict(test_edges)\n",
    "submission = pd.read_csv(submission_path)\n",
    "df = pd.DataFrame(columns=['id', 'label'])\n",
    "df['id'] = np.array(range(len(test_probs)))  # save the probabilities\n",
    "df['label'] = test_probs\n",
    "df.to_csv('data/submission.csv', index=None)"
   ]
  },
  {
   "cell_type": "code",
   "execution_count": 7,
   "metadata": {},
   "outputs": [
    {
     "name": "stdout",
     "output_type": "stream",
     "text": [
      "1.0\n"
     ]
    }
   ],
   "source": [
    "# Compare to my best submission result\n",
    "sub = pd.read_csv('data/submission.csv').values\n",
    "sub_best = pd.read_csv('data/submission_final.csv').values\n",
    "label1 = sub[:, 1] > 0.5\n",
    "label2 = sub[:, 1] > 0.5\n",
    "print(sum(label1 == label2) / len(label1))\n",
    "\n",
    "# In above, we get labels from the predict method, this can also be done as follows step by step"
   ]
  },
  {
   "cell_type": "code",
   "execution_count": 8,
   "metadata": {},
   "outputs": [
    {
     "name": "stdout",
     "output_type": "stream",
     "text": [
      "(46116, 128)\n"
     ]
    }
   ],
   "source": [
    "edge_functions = {\n",
    "    \"hadamard\": lambda a, b: a * b,\n",
    "    \"average\": lambda a, b: 0.5 * (a + b),\n",
    "    \"l1\": lambda a, b: np.abs(a - b),\n",
    "    \"l2\": lambda a, b: np.abs(a - b) ** 2,\n",
    "}\n",
    "# get positive edge features\n",
    "pos_edge_features = node2vec.get_edge_features(edges, edge_fn=edge_functions['hadamard'])\n",
    "print(pos_edge_features.shape)"
   ]
  },
  {
   "cell_type": "code",
   "execution_count": 9,
   "metadata": {},
   "outputs": [
    {
     "name": "stdout",
     "output_type": "stream",
     "text": [
      "(50000, 128)\n"
     ]
    }
   ],
   "source": [
    "# get negative edge features\n",
    "neg_edges = pd.read_csv('data/neg_edges.csv')\n",
    "neg_edges = neg_edges.values[:50000]\n",
    "neg_edge_features = node2vec.get_edge_features(neg_edges, edge_fn=edge_functions['hadamard'])\n",
    "print(neg_edge_features.shape)"
   ]
  },
  {
   "cell_type": "code",
   "execution_count": 10,
   "metadata": {},
   "outputs": [
    {
     "name": "stdout",
     "output_type": "stream",
     "text": [
      "(46116, 128)\n",
      "(50000, 128)\n"
     ]
    }
   ],
   "source": [
    "print(pos_edge_features.shape)\n",
    "print(neg_edge_features.shape)\n",
    "train_pos_labels = np.full((pos_edge_features.shape[0], ), 1)  # positive labels\n",
    "train_neg_labels = np.full((neg_edge_features.shape[0], ), 0)  # negative labels\n",
    "train_labels = np.hstack([train_pos_labels, train_neg_labels])  # create train labels\n",
    "edges_features_train = np.vstack([pos_edge_features, neg_edge_features])  # create train edge features"
   ]
  },
  {
   "cell_type": "code",
   "execution_count": 11,
   "metadata": {},
   "outputs": [
    {
     "name": "stdout",
     "output_type": "stream",
     "text": [
      "Iteration 1, loss = 0.06497084\n",
      "Iteration 2, loss = 0.02526877\n",
      "Iteration 3, loss = 0.02040728\n",
      "Iteration 4, loss = 0.01600339\n",
      "Iteration 5, loss = 0.01296278\n",
      "Iteration 6, loss = 0.01110995\n",
      "Iteration 7, loss = 0.00948738\n",
      "Iteration 8, loss = 0.00824680\n",
      "Iteration 9, loss = 0.00659675\n",
      "Iteration 10, loss = 0.00628194\n",
      "Iteration 11, loss = 0.00556529\n",
      "Iteration 12, loss = 0.00532455\n",
      "Iteration 13, loss = 0.00430454\n",
      "Iteration 14, loss = 0.00352278\n",
      "Iteration 15, loss = 0.00326037\n",
      "Iteration 16, loss = 0.00284108\n",
      "Iteration 17, loss = 0.00312093\n",
      "Iteration 18, loss = 0.00236183\n",
      "Iteration 19, loss = 0.00238713\n",
      "Iteration 20, loss = 0.00199528\n"
     ]
    },
    {
     "name": "stderr",
     "output_type": "stream",
     "text": [
      "C:\\Users\\hppc\\Anaconda3\\lib\\site-packages\\sklearn\\neural_network\\_multilayer_perceptron.py:571: ConvergenceWarning: Stochastic Optimizer: Maximum iterations (20) reached and the optimization hasn't converged yet.\n",
      "  % self.max_iter, ConvergenceWarning)\n"
     ]
    },
    {
     "name": "stdout",
     "output_type": "stream",
     "text": [
      "0.9942985559116068\n",
      "0.9942975250036713\n"
     ]
    }
   ],
   "source": [
    "# train classifier, use Multi-layer Perceptron as the classifier\n",
    "from sklearn.neural_network import MLPClassifier\n",
    "from sklearn.model_selection import train_test_split\n",
    "from sklearn.metrics import roc_auc_score\n",
    "mlp = MLPClassifier(hidden_layer_sizes=(64, 32), max_iter=20, alpha=1e-4,\n",
    "                    solver='sgd', verbose=10, random_state=1,\n",
    "                    learning_rate_init=.1)\n",
    "X_train, X_test, y_train, y_test = train_test_split(edges_features_train, train_labels)\n",
    "mlp.fit(X_train, y_train)\n",
    "print(mlp.score(X_test, y_test))\n",
    "score = roc_auc_score(mlp.predict(X_test), y_test)\n",
    "print(score)"
   ]
  },
  {
   "cell_type": "code",
   "execution_count": 12,
   "metadata": {},
   "outputs": [
    {
     "name": "stdout",
     "output_type": "stream",
     "text": [
      "46022\n",
      "72\n"
     ]
    }
   ],
   "source": [
    "print(np.sum(mlp.predict(pos_edge_features) == 1))\n",
    "print(np.sum(mlp.predict(neg_edge_features) == 1))"
   ]
  },
  {
   "cell_type": "code",
   "execution_count": 14,
   "metadata": {},
   "outputs": [
    {
     "data": {
      "image/png": "[encoded data removed]",
      "text/plain": [
       "<Figure size 432x288 with 2 Axes>"
      ]
     },
     "metadata": {
      "needs_background": "light"
     },
     "output_type": "display_data"
    },
    {
     "data": {
      "image/png": "[encoded data removed]",
      "text/plain": [
       "<Figure size 432x288 with 1 Axes>"
      ]
     },
     "metadata": {
      "needs_background": "light"
     },
     "output_type": "display_data"
    }
   ],
   "source": [
    "from sklearn.decomposition import PCA\n",
    "pca = PCA(n_components=2)\n",
    "edge_features_pca=pca.fit_transform(edges_features_train)\n",
    "# edge_features_pca=scaler.fit_transform(edge_features_pca)\n",
    "import matplotlib.pyplot as plt\n",
    "plt.subplot(1, 2, 1)\n",
    "plt.scatter(edge_features_pca[:46116, 0], edge_features_pca[:46116, 1], c=train_labels[:46116])\n",
    "plt.subplot(1, 2, 2)\n",
    "plt.scatter(edge_features_pca[46116:, 0], edge_features_pca[46116:, 1], c=train_labels[46116:])\n",
    "plt.figure(2)\n",
    "plt.scatter(edge_features_pca[:, 0], edge_features_pca[:, 1], c=train_labels)\n",
    "plt.show()"
   ]
  },
  {
   "cell_type": "code",
   "execution_count": 15,
   "metadata": {},
   "outputs": [
    {
     "name": "stdout",
     "output_type": "stream",
     "text": [
      "(10246, 2)\n"
     ]
    }
   ],
   "source": [
    "# get test edge features\n",
    "print(test_edges.shape)\n",
    "test_edges_features = node2vec.get_edge_features(test_edges, edge_fn=edge_functions['hadamard'])"
   ]
  },
  {
   "cell_type": "code",
   "execution_count": 16,
   "metadata": {},
   "outputs": [],
   "source": [
    "test_labels = mlp.predict(test_edges_features)  # predict test labels\n",
    "test_probs = mlp.predict_proba(test_edges_features)[:, 1]  # predict probs"
   ]
  },
  {
   "cell_type": "code",
   "execution_count": 17,
   "metadata": {},
   "outputs": [],
   "source": [
    "submission = pd.read_csv(submission_path)\n",
    "df = pd.DataFrame(columns=['id', 'label'])\n",
    "df['id'] = np.array(range(len(test_probs)))\n",
    "df['label'] = test_probs\n",
    "df.to_csv('data/submission.csv', index=None)"
   ]
  },
  {
   "cell_type": "code",
   "execution_count": 18,
   "metadata": {},
   "outputs": [
    {
     "name": "stdout",
     "output_type": "stream",
     "text": [
      "1.0\n"
     ]
    }
   ],
   "source": [
    "# Compare to my best submission result\n",
    "sub = pd.read_csv('data/submission.csv').values\n",
    "sub_best = pd.read_csv('data/submission_final.csv').values\n",
    "label1 = sub[:, 1] > 0.5\n",
    "label2 = sub[:, 1] > 0.5\n",
    "print(sum(label1 == label2) / len(label1))"
   ]
  },
  {
   "cell_type": "code",
   "execution_count": null,
   "metadata": {},
   "outputs": [],
   "source": []
  }
 ],
 "metadata": {
  "kernelspec": {
   "display_name": "Python 3",
   "language": "python",
   "name": "python3"
  },
  "language_info": {
   "codemirror_mode": {
    "name": "ipython",
    "version": 3
   },
   "file_extension": ".py",
   "mimetype": "text/x-python",
   "name": "python",
   "nbconvert_exporter": "python",
   "pygments_lexer": "ipython3",
   "version": "3.7.1"
  }
 },
 "nbformat": 4,
 "nbformat_minor": 2
}
